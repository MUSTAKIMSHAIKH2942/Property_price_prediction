{
 "cells": [
  {
   "cell_type": "code",
   "execution_count": 16,
   "metadata": {},
   "outputs": [
    {
     "name": "stdout",
     "output_type": "stream",
     "text": [
      "Simple Linear Regression Model:\n",
      "Mean Absolute Error: 62990.86530093761\n",
      "Mean Squared Error: 7091157771.76555\n",
      "Root Mean Squared Error: 84209.01241414454\n",
      "R^2 Score: 0.45885918903846656\n",
      "\n",
      "\n",
      "Multiple Linear Regression Model:\n",
      "Mean Absolute Error: 53668.351217420015\n",
      "Mean Squared Error: 5474322614.966027\n",
      "Root Mean Squared Error: 73988.6654492837\n",
      "R^2 Score: 0.5822431999577118\n"
     ]
    }
   ],
   "source": [
    "import pandas as pd\n",
    "import numpy as np\n",
    "from sklearn.model_selection import train_test_split\n",
    "from sklearn.linear_model import LinearRegression\n",
    "from sklearn.metrics import mean_squared_error, r2_score , mean_absolute_error\n",
    "import joblib\n",
    "\n",
    "# Load the dataset\n",
    "data = pd.read_csv('../data/data_file.csv')\n",
    "\n",
    "# Fill missing values in 'total_bedrooms' with the column mean\n",
    "data['total_bedrooms'] = data['total_bedrooms'].fillna(data['total_bedrooms'].mean())\n",
    "\n",
    "\n",
    "# One-hot encode 'ocean_proximity' column\n",
    "data_encoded = pd.get_dummies(data, columns=['ocean_proximity'], drop_first=True)\n",
    "\n",
    "# Feature Engineering\n",
    "data_encoded['rooms_per_household'] = data_encoded['total_rooms'] / data_encoded['households']\n",
    "data_encoded['bedrooms_per_room'] = data_encoded['total_bedrooms'] / data_encoded['total_rooms']\n",
    "data_encoded['population_per_household'] = data_encoded['population'] / data_encoded['households']\n",
    "\n",
    "# Define target and features\n",
    "target = 'median_house_value'\n",
    "X = data_encoded.drop(columns=[target])\n",
    "y = data_encoded[target]\n",
    "\n",
    "# Split the data into training and test sets\n",
    "X_train, X_test, y_train, y_test = train_test_split(X, y, test_size=0.2, random_state=42)\n",
    "\n",
    "# Train simple linear regression model (using 'median_income' as a single feature)\n",
    "X_train_simple = X_train[['median_income']]\n",
    "X_test_simple = X_test[['median_income']]\n",
    "model_simple = LinearRegression()\n",
    "model_simple.fit(X_train_simple, y_train)\n",
    "\n",
    "# Train multiple linear regression model (using top 5 features from feature importance)\n",
    "features = ['median_income', 'latitude', 'total_rooms', 'housing_median_age', 'ocean_proximity_INLAND']\n",
    "X_train_multiple = X_train[features]\n",
    "X_test_multiple = X_test[features]\n",
    "model_multiple = LinearRegression()\n",
    "model_multiple.fit(X_train_multiple, y_train)\n",
    "\n",
    "# Save the models\n",
    "joblib.dump(model_simple, 'models/simple_linear_regression_model.pkl')\n",
    "joblib.dump(model_multiple, 'models/multiple_linear_regression_model.pkl')\n",
    "\n",
    "# Evaluate both models\n",
    "y_pred_simple = model_simple.predict(X_test_simple)\n",
    "y_pred_multiple = model_multiple.predict(X_test_multiple)\n",
    "\n",
    "# Evaluation metrics for simple linear regression model\n",
    "print(\"Simple Linear Regression Model:\")\n",
    "print(\"Mean Absolute Error:\", mean_absolute_error(y_test, y_pred_simple))\n",
    "print(\"Mean Squared Error:\", mean_squared_error(y_test, y_pred_simple))\n",
    "print(\"Root Mean Squared Error:\", np.sqrt(mean_squared_error(y_test, y_pred_simple)))\n",
    "print(\"R^2 Score:\", r2_score(y_test, y_pred_simple))\n",
    "print(\"\\n\")\n",
    "\n",
    "# Evaluation metrics for multiple linear regression model\n",
    "print(\"Multiple Linear Regression Model:\")\n",
    "print(\"Mean Absolute Error:\", mean_absolute_error(y_test, y_pred_multiple))\n",
    "print(\"Mean Squared Error:\", mean_squared_error(y_test, y_pred_multiple))\n",
    "print(\"Root Mean Squared Error:\", np.sqrt(mean_squared_error(y_test, y_pred_multiple)))\n",
    "print(\"R^2 Score:\", r2_score(y_test, y_pred_multiple))"
   ]
  },
  {
   "cell_type": "markdown",
   "metadata": {},
   "source": [
    "The metrics show that the Multiple Linear Regression model performs better than the Simple Linear Regression model. Here’s how we can interpret the results and consider steps to improve the model further:\n",
    "\n",
    "Interpretation:\n",
    "\n",
    "Mean Absolute Error (MAE): The multiple linear regression model has a lower MAE (53,668 vs. 62,991), indicating it generally makes smaller errors in prediction.\n",
    "\n",
    "Mean Squared Error (MSE) and RMSE: The multiple model also has a lower MSE and RMSE, suggesting it handles large errors better.\n",
    "\n",
    "R² Score: The multiple regression model’s R² score (0.582) indicates it explains 58.2% of the variance in house values, which is better than the simple model's R² score (45.9%)."
   ]
  }
 ],
 "metadata": {
  "kernelspec": {
   "display_name": "Python 3",
   "language": "python",
   "name": "python3"
  },
  "language_info": {
   "codemirror_mode": {
    "name": "ipython",
    "version": 3
   },
   "file_extension": ".py",
   "mimetype": "text/x-python",
   "name": "python",
   "nbconvert_exporter": "python",
   "pygments_lexer": "ipython3",
   "version": "3.11.9"
  }
 },
 "nbformat": 4,
 "nbformat_minor": 2
}
